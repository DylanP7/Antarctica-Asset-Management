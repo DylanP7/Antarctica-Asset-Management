{
 "cells": [
  {
   "cell_type": "code",
   "execution_count": 6,
   "id": "3b65d1ee",
   "metadata": {},
   "outputs": [],
   "source": [
    "import tkinter as tk\n",
    "import requests\n",
    "import openpyxl as xl\n",
    "from tkinter import messagebox\n",
    "from tkinter import filedialog\n",
    "from bs4 import BeautifulSoup\n"
   ]
  },
  {
   "cell_type": "code",
   "execution_count": 10,
   "id": "6fe8bb30",
   "metadata": {},
   "outputs": [],
   "source": [
    "#Function to download HTML file and then scrape for the relevant items using BeautifulSoup\n",
    "\n",
    "def repositories():\n",
    "\n",
    "#Download HTML and Extract informatoin into list\n",
    "    url = (f\"https://github.com/orgs/{username.get()}/repositories\")\n",
    "    r = requests.get(url)\n",
    "    soup = BeautifulSoup(r.text, 'html.parser')\n",
    "    ele_list = soup.find_all(itemprop=\"name codeRepository\") \n",
    "    elements=[]\n",
    "    \n",
    "    for ele in ele_list:\n",
    "        elements.append(ele.get_text().strip())\n",
    "   \n",
    "\n",
    "    workbook = xl.Workbook()\n",
    "    sheet = workbook.active\n",
    "\n",
    "# Write the repository names into the Excel file\n",
    "    for index, repo in enumerate(elements, start=1):\n",
    "        sheet.cell(row=index, column=1, value=repo)\n",
    "\n",
    "# Get the file path from the user using a file dialog\n",
    "\n",
    "    file_path = filedialog.asksaveasfilename(defaultextension='.xlsx')\n",
    "\n",
    "    #Check to see if downloaded\n",
    "    if file_path:\n",
    "        # Save the Excel file to the specified location\n",
    "        workbook.save(file_path)\n",
    "        messagebox.showinfo('Success', 'Repositories saved to Excel file.')\n",
    "    else:\n",
    "        messagebox.showwarning('Warning', 'File path not provided.')\n",
    "            \n",
    "# Create GUI\n",
    "window = tk.Tk()\n",
    "window.title('GitHub Repository')\n",
    "\n",
    "# Enter Username\n",
    "username = tk.Label(window, text='GitHub Username:')\n",
    "username.pack()\n",
    "username = tk.Entry(window)\n",
    "username.pack()\n",
    "\n",
    "# Button to start process\n",
    "button_fetch = tk.Button(window, text='Fetch Repositories', command=repositories)\n",
    "button_fetch.pack()\n",
    "\n",
    "# Start the main event loop\n",
    "window.mainloop()"
   ]
  },
  {
   "cell_type": "code",
   "execution_count": null,
   "id": "f016bceb",
   "metadata": {},
   "outputs": [],
   "source": []
  }
 ],
 "metadata": {
  "kernelspec": {
   "display_name": "Python 3 (ipykernel)",
   "language": "python",
   "name": "python3"
  },
  "language_info": {
   "codemirror_mode": {
    "name": "ipython",
    "version": 3
   },
   "file_extension": ".py",
   "mimetype": "text/x-python",
   "name": "python",
   "nbconvert_exporter": "python",
   "pygments_lexer": "ipython3",
   "version": "3.9.12"
  }
 },
 "nbformat": 4,
 "nbformat_minor": 5
}
